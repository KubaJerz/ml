{
 "cells": [
  {
   "cell_type": "code",
   "execution_count": 2,
   "metadata": {},
   "outputs": [],
   "source": [
    "import torch \n",
    "from torch.utils.data import Dataset, DataLoader \n",
    "import numpy as np \n",
    "import math "
   ]
  },
  {
   "cell_type": "code",
   "execution_count": null,
   "metadata": {},
   "outputs": [],
   "source": [
    "# class BaseDataSet(): \n",
    "  \n",
    "#     def __init__(self): \n",
    "        \n",
    "#         # loading the data\n",
    "#         data1 = np.loadtxt('heart.csv', delimiter=',', \n",
    "#                            dtype=np.float32, skiprows=1) \n",
    "          \n",
    "#         # here the 13th column is class label and rest  \n",
    "#         # are features \n",
    "#         self.x = torch.from_numpy(data1[:, :13]) \n",
    "#         self.y = torch.from_numpy(data1[:, [13]]) \n",
    "#         self.n_samples = data1.shape[0]  \n",
    "      \n",
    "#     # support indexing such that dataset[i] can  \n",
    "#     # be used to get i-th sample \n",
    "#     def __getitem__(self, index): \n",
    "#         return self.x[index], self.y[index] \n",
    "        \n",
    "#     # we can call len(dataset) to return the size \n",
    "#     def __len__(self): \n",
    "#         return self.n_samples \n",
    "  "
   ]
  }
 ],
 "metadata": {
  "kernelspec": {
   "display_name": "base",
   "language": "python",
   "name": "python3"
  },
  "language_info": {
   "codemirror_mode": {
    "name": "ipython",
    "version": 3
   },
   "file_extension": ".py",
   "mimetype": "text/x-python",
   "name": "python",
   "nbconvert_exporter": "python",
   "pygments_lexer": "ipython3",
   "version": "3.12.3"
  }
 },
 "nbformat": 4,
 "nbformat_minor": 2
}
