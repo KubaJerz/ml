{
 "cells": [
  {
   "cell_type": "code",
   "execution_count": 5,
   "metadata": {},
   "outputs": [],
   "source": [
    "import torch \n",
    "from torch.utils.data import Dataset, DataLoader \n",
    "import numpy as np \n",
    "import os \n",
    "import pickle"
   ]
  },
  {
   "cell_type": "code",
   "execution_count": 2,
   "metadata": {},
   "outputs": [],
   "source": [
    "labels_col = 13 #this is exaple\n",
    "raw_data_path = 'Data/Raw/heart.csv'    #THIS NEEDS TO BE ABSOLUTE PATH\n",
    "train_percent = 0.7\n",
    "test_percent = 1 - train_percent\n",
    "path_to_save_dir = 'Data/Datasets/Heart'  #path to save the data too\n"
   ]
  },
  {
   "cell_type": "code",
   "execution_count": 3,
   "metadata": {},
   "outputs": [],
   "source": [
    "class TrainDataSet():\n",
    "    def __init__(self, raw_data_path, train_percent, labels_col):\n",
    "        data = np.loadtxt(raw_data_path, delimiter=',', dtype=np.float32, skiprows=1)\n",
    "        self.n_samples = data.shape[0]\n",
    "\n",
    "        n_train_samples = int(self.n_samples * train_percent)\n",
    "        self.rows = np.random.permutation(self.n_samples)[:n_train_samples]\n",
    "\n",
    "        self.x = torch.from_numpy(data[self.rows, :labels_col])\n",
    "        self.y = torch.from_numpy(data[self.rows, [labels_col]])\n",
    "        self.n_train_samples = n_train_samples\n",
    "\n",
    "    def __getitem__(self, index):\n",
    "        return self.x[index], self.y[index]\n",
    "\n",
    "    def __len__(self):\n",
    "        return self.n_train_samples\n",
    "    \n",
    "class TestDataSet():\n",
    "    def __init__(self, raw_data_path, test_percent, labels_col, train_rows):\n",
    "        data = np.loadtxt(raw_data_path, delimiter=',', dtype=np.float32, skiprows=1)\n",
    "        self.n_samples = data.shape[0]\n",
    "\n",
    "        n_train_samples = int(self.n_samples * test_percent)\n",
    "        rows = ~train_rows\n",
    "\n",
    "        self.x = torch.from_numpy(data[rows, :labels_col])\n",
    "        self.y = torch.from_numpy(data[rows, [labels_col]])\n",
    "        self.n_train_samples = n_train_samples\n",
    "\n",
    "    def __getitem__(self, index):\n",
    "        return self.x[index], self.y[index]\n",
    "\n",
    "    def __len__(self):\n",
    "        return self.n_train_samples\n",
    "  "
   ]
  },
  {
   "cell_type": "code",
   "execution_count": 6,
   "metadata": {},
   "outputs": [],
   "source": [
    "def save_dataset(dataset, path_to_save_dir, file_name):\n",
    "    with open(os.path.join(path_to_save_dir,file_name), 'wb') as f:\n",
    "        pickle.dump(dataset, f)\n"
   ]
  },
  {
   "cell_type": "code",
   "execution_count": null,
   "metadata": {},
   "outputs": [],
   "source": [
    "#save to non raw data to data Datasets\n",
    "train_set = TrainDataSet(raw_data_path, train_percent, labels_col)\n",
    "test_set = TestDataSet(raw_data_path, train_percent, labels_col, train_set.rows)\n",
    "\n",
    "save_dataset(train_set, path_to_save_dir, 'train.pkl')\n",
    "save_dataset(test_set, path_to_save_dir, 'test.pkl')"
   ]
  },
  {
   "cell_type": "code",
   "execution_count": null,
   "metadata": {},
   "outputs": [],
   "source": [
    "#test"
   ]
  }
 ],
 "metadata": {
  "kernelspec": {
   "display_name": "base",
   "language": "python",
   "name": "python3"
  },
  "language_info": {
   "codemirror_mode": {
    "name": "ipython",
    "version": 3
   },
   "file_extension": ".py",
   "mimetype": "text/x-python",
   "name": "python",
   "nbconvert_exporter": "python",
   "pygments_lexer": "ipython3",
   "version": "3.12.3"
  }
 },
 "nbformat": 4,
 "nbformat_minor": 2
}
