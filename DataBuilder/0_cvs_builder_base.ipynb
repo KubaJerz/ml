{
 "cells": [
  {
   "cell_type": "code",
   "execution_count": null,
   "metadata": {},
   "outputs": [],
   "source": [
    "import torch \n",
    "from torch.utils.data import Dataset \n",
    "import numpy as np \n",
    "import pandas as pd\n",
    "import os \n",
    "import dill as pickle\n"
   ]
  },
  {
   "cell_type": "code",
   "execution_count": null,
   "metadata": {},
   "outputs": [],
   "source": [
    "labels_col = 13 #this is exaple\n",
    "raw_data_path = 'Data/Raw/heart.csv'    #THIS NEEDS TO BE ABSOLUTE PATH\n",
    "train_percent = 0.7\n",
    "test_percent = 1 - train_percent\n",
    "path_to_save_dir = 'Data/Datasets/Heart'  #path to save the data too\n"
   ]
  },
  {
   "cell_type": "code",
   "execution_count": null,
   "metadata": {},
   "outputs": [],
   "source": [
    "class TrainDataSet(Dataset):\n",
    "    def __init__(self, raw_data_path, train_percent, labels_col):\n",
    "        data = pd.read_csv(raw_data_path, dtype=np.float32)\n",
    "        new_column_names = list(range(data.shape[1]))\n",
    "        data.columns = new_column_names #cols are now 0 to n\n",
    "        print(data.shape)\n",
    "\n",
    "        self.rows = np.random.permutation(data.shape[0])[:int(data.shape[0] * train_percent)]\n",
    "\n",
    "        self.x = torch.tensor(data.iloc[self.rows, data.columns != labels_col].values, dtype=torch.float32)\n",
    "        self.y = torch.tensor(data.iloc[self.rows][labels_col].values, dtype=torch.float32).unsqueeze(1)\n",
    "        self.n_samples = len(self.x)\n",
    "\n",
    "    def __getitem__(self, index):\n",
    "        return self.x[index], self.y[index]\n",
    "\n",
    "    def __len__(self):\n",
    "        return self.n_samples\n",
    "    \n",
    "class TestDataSet(Dataset):\n",
    "    def __init__(self, raw_data_path, test_percent, labels_col, train_rows):\n",
    "        data = pd.read_csv(raw_data_path, dtype=np.float32)\n",
    "        new_column_names = list(range(data.shape[1]))\n",
    "        data.columns = new_column_names #cols are now 0 to n\n",
    "        \n",
    "        rows = np.ones(data.shape[0], dtype=bool)\n",
    "        rows[train_rows] = False\n",
    "\n",
    "        self.x = torch.tensor(data.iloc[rows, data.columns != labels_col].values, dtype=torch.float32)\n",
    "        self.y = torch.tensor(data.iloc[rows][labels_col].values, dtype=torch.float32).unsqueeze(1)\n",
    "        self.n_samples = len(self.x)\n",
    "\n",
    "    def __getitem__(self, index):\n",
    "        return self.x[index], self.y[index]\n",
    "\n",
    "    def __len__(self):\n",
    "        return self.n_samples\n"
   ]
  },
  {
   "cell_type": "code",
   "execution_count": null,
   "metadata": {},
   "outputs": [],
   "source": [
    "def save_dataset(dataset, path_to_save_dir, file_name):\n",
    "    with open(os.path.join(path_to_save_dir,file_name), 'wb') as f:\n",
    "        pickle.dump(dataset, f)\n"
   ]
  },
  {
   "cell_type": "code",
   "execution_count": null,
   "metadata": {},
   "outputs": [],
   "source": [
    "#save to non raw data to data Datasets\n",
    "train_set = TrainDataSet(raw_data_path, train_percent, labels_col)\n",
    "test_set = TestDataSet(raw_data_path, train_percent, labels_col, train_set.rows)\n",
    "\n",
    "os.makedirs(path_to_save_dir, exist_ok=False)\n",
    "\n",
    "save_dataset(train_set, path_to_save_dir, 'train.pkl')\n",
    "save_dataset(test_set, path_to_save_dir, 'test.pkl')"
   ]
  },
  {
   "cell_type": "code",
   "execution_count": null,
   "metadata": {},
   "outputs": [],
   "source": [
    "#test"
   ]
  }
 ],
 "metadata": {
  "kernelspec": {
   "display_name": "base",
   "language": "python",
   "name": "python3"
  },
  "language_info": {
   "codemirror_mode": {
    "name": "ipython",
    "version": 3
   },
   "file_extension": ".py",
   "mimetype": "text/x-python",
   "name": "python",
   "nbconvert_exporter": "python",
   "pygments_lexer": "ipython3",
   "version": "3.12.3"
  }
 },
 "nbformat": 4,
 "nbformat_minor": 2
}
