{
 "cells": [
  {
   "cell_type": "code",
   "execution_count": 22,
   "metadata": {},
   "outputs": [],
   "source": [
    "import torch \n",
    "from torch.utils.data import Dataset, ConcatDataset\n",
    "from tqdm import tqdm\n",
    "import os \n",
    "import dill as pickle\n"
   ]
  },
  {
   "cell_type": "code",
   "execution_count": 23,
   "metadata": {},
   "outputs": [],
   "source": [
    "raw_data_dir = '/home/kuba/Documents/Data/Raw/RatEEG_R/'     #THIS NEEDS TO BE ABSOLUTE PATH\n",
    "train_percent = 0.7\n",
    "test_percent = 1 - train_percent\n",
    "path_to_save_dir = '/home/kuba/Documents/Data/Datasets/RatEEG_D/DS01' #path to save the data too\n"
   ]
  },
  {
   "cell_type": "code",
   "execution_count": 24,
   "metadata": {},
   "outputs": [],
   "source": [
    "class CombinedDataSet(Dataset):\n",
    "    def __init__(self, raw_data_path):\n",
    "        X, y = torch.load(raw_data_path)\n",
    "        self.x = X\n",
    "        self.y = y\n",
    "        self.n_samples = len(self.x)\n",
    "\n",
    "    def __getitem__(self, index):\n",
    "        return self.x[index], self.y[index]\n",
    "\n",
    "    def __len__(self):\n",
    "        return self.n_samples"
   ]
  },
  {
   "cell_type": "code",
   "execution_count": 25,
   "metadata": {},
   "outputs": [],
   "source": [
    "def save_dataset(dataset, path_to_save_dir, file_name):\n",
    "    with open(os.path.join(path_to_save_dir,file_name), 'wb') as f:\n",
    "        pickle.dump(dataset, f)"
   ]
  },
  {
   "cell_type": "code",
   "execution_count": 26,
   "metadata": {},
   "outputs": [
    {
     "name": "stderr",
     "output_type": "stream",
     "text": [
      "100%|██████████| 33/33 [00:00<00:00, 85.87it/s]\n"
     ]
    }
   ],
   "source": [
    "all_datasets = []\n",
    "for file_name in tqdm(sorted(os.listdir(raw_data_dir))):\n",
    "    if file_name.endswith('.pt'):\n",
    "        raw_data_path = os.path.join(raw_data_dir, file_name)\n",
    "        dataset = CombinedDataSet(raw_data_path)\n",
    "        all_datasets.append(dataset)\n",
    "\n",
    "combined_dataset = ConcatDataset(all_datasets)"
   ]
  },
  {
   "cell_type": "code",
   "execution_count": 27,
   "metadata": {},
   "outputs": [],
   "source": [
    "# split into train and test\n",
    "total_size = len(combined_dataset)\n",
    "train_size = int(train_percent * total_size)\n",
    "test_size = total_size - train_size\n",
    "\n",
    "train_dataset, test_dataset = torch.utils.data.random_split(combined_dataset, [train_size, test_size])"
   ]
  },
  {
   "cell_type": "code",
   "execution_count": 28,
   "metadata": {},
   "outputs": [
    {
     "ename": "FileExistsError",
     "evalue": "[Errno 17] File exists: '/home/kuba/Documents/Data/Datasets/RatEEG_D/DS01'",
     "output_type": "error",
     "traceback": [
      "\u001b[0;31m---------------------------------------------------------------------------\u001b[0m",
      "\u001b[0;31mFileExistsError\u001b[0m                           Traceback (most recent call last)",
      "Cell \u001b[0;32mIn[28], line 3\u001b[0m\n\u001b[1;32m      1\u001b[0m \u001b[38;5;66;03m#save to non raw data to data Datasets\u001b[39;00m\n\u001b[0;32m----> 3\u001b[0m \u001b[43mos\u001b[49m\u001b[38;5;241;43m.\u001b[39;49m\u001b[43mmakedirs\u001b[49m\u001b[43m(\u001b[49m\u001b[43mpath_to_save_dir\u001b[49m\u001b[43m,\u001b[49m\u001b[43m \u001b[49m\u001b[43mexist_ok\u001b[49m\u001b[38;5;241;43m=\u001b[39;49m\u001b[38;5;28;43;01mFalse\u001b[39;49;00m\u001b[43m)\u001b[49m\n\u001b[1;32m      5\u001b[0m save_dataset(train_dataset, path_to_save_dir, \u001b[38;5;124m'\u001b[39m\u001b[38;5;124mcombined_train.pkl\u001b[39m\u001b[38;5;124m'\u001b[39m)\n\u001b[1;32m      6\u001b[0m save_dataset(test_dataset, path_to_save_dir, \u001b[38;5;124m'\u001b[39m\u001b[38;5;124mcombined_test.pkl\u001b[39m\u001b[38;5;124m'\u001b[39m)\n",
      "File \u001b[0;32m<frozen os>:225\u001b[0m, in \u001b[0;36mmakedirs\u001b[0;34m(name, mode, exist_ok)\u001b[0m\n",
      "\u001b[0;31mFileExistsError\u001b[0m: [Errno 17] File exists: '/home/kuba/Documents/Data/Datasets/RatEEG_D/DS01'"
     ]
    }
   ],
   "source": [
    "#save to non raw data to data Datasets\n",
    "\n",
    "os.makedirs(path_to_save_dir, exist_ok=False)\n",
    "\n",
    "save_dataset(train_dataset, path_to_save_dir, 'combined_train.pkl')\n",
    "save_dataset(test_dataset, path_to_save_dir, 'combined_test.pkl')"
   ]
  }
 ],
 "metadata": {
  "kernelspec": {
   "display_name": "base",
   "language": "python",
   "name": "python3"
  },
  "language_info": {
   "codemirror_mode": {
    "name": "ipython",
    "version": 3
   },
   "file_extension": ".py",
   "mimetype": "text/x-python",
   "name": "python",
   "nbconvert_exporter": "python",
   "pygments_lexer": "ipython3",
   "version": "3.12.3"
  }
 },
 "nbformat": 4,
 "nbformat_minor": 2
}
