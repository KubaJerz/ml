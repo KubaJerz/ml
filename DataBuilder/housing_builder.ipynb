{
 "cells": [
  {
   "cell_type": "code",
   "execution_count": 331,
   "metadata": {},
   "outputs": [],
   "source": [
    "import torch \n",
    "from torch.utils.data import Dataset \n",
    "import numpy as np \n",
    "import pandas as pd\n",
    "import os \n",
    "# import pickle\n",
    "# import joblib\n",
    "import dill as pickle\n"
   ]
  },
  {
   "cell_type": "code",
   "execution_count": 332,
   "metadata": {},
   "outputs": [],
   "source": [
    "labels_col = 0 \n",
    "raw_data_path = '/home/kuba/Documents/Data/Raw/sf_nyc_homes.csv'    #THIS NEEDS TO BE ABSOLUTE PATH'''\n",
    "train_percent = 0.7\n",
    "test_percent = 1 - train_percent\n",
    "path_to_save_dir = '/home/kuba/Documents/Data/Datasets/SF_NYC_Homes'  #path to save the data too'''\n"
   ]
  },
  {
   "cell_type": "code",
   "execution_count": 333,
   "metadata": {},
   "outputs": [],
   "source": [
    "class TrainDataSet(Dataset):\n",
    "    def __init__(self, raw_data_path, train_percent, labels_col):\n",
    "        data = pd.read_csv(raw_data_path, dtype=np.float32)\n",
    "        new_column_names = list(range(data.shape[1]))\n",
    "        data.columns = new_column_names #cols are now 0 to n\n",
    "        print(data.shape)\n",
    "\n",
    "        self.rows = np.random.permutation(data.shape[0])[:int(data.shape[0] * train_percent)]\n",
    "\n",
    "        self.x = torch.tensor(data.iloc[self.rows, data.columns != labels_col].values, dtype=torch.float32)\n",
    "        self.y = torch.tensor(data.iloc[self.rows][labels_col].values, dtype=torch.float32).unsqueeze(1)\n",
    "        self.n_samples = len(self.x)\n",
    "\n",
    "    def __getitem__(self, index):\n",
    "        return self.x[index], self.y[index]\n",
    "\n",
    "    def __len__(self):\n",
    "        return self.n_samples\n",
    "    \n",
    "class TestDataSet(Dataset):\n",
    "    def __init__(self, raw_data_path, test_percent, labels_col, train_rows):\n",
    "        data = pd.read_csv(raw_data_path, dtype=np.float32)\n",
    "        new_column_names = list(range(data.shape[1]))\n",
    "        data.columns = new_column_names #cols are now 0 to n\n",
    "        \n",
    "        rows = np.ones(data.shape[0], dtype=bool)\n",
    "        rows[train_rows] = False\n",
    "\n",
    "        self.x = torch.tensor(data.iloc[rows, data.columns != labels_col].values, dtype=torch.float32)\n",
    "        self.y = torch.tensor(data.iloc[rows][labels_col].values, dtype=torch.float32).unsqueeze(1)\n",
    "        self.n_samples = len(self.x)\n",
    "\n",
    "    def __getitem__(self, index):\n",
    "        return self.x[index], self.y[index]\n",
    "\n",
    "    def __len__(self):\n",
    "        return self.n_samples\n"
   ]
  },
  {
   "cell_type": "code",
   "execution_count": 334,
   "metadata": {},
   "outputs": [],
   "source": [
    "def save_dataset(dataset, path_to_save_dir, file_name):\n",
    "    os.makedirs(path_to_save_dir,exist_ok=True)\n",
    "    with open(os.path.join(path_to_save_dir,file_name), 'wb') as f:\n",
    "        pickle.dump(dataset, f)\n"
   ]
  },
  {
   "cell_type": "code",
   "execution_count": 335,
   "metadata": {},
   "outputs": [
    {
     "name": "stdout",
     "output_type": "stream",
     "text": [
      "(492, 8)\n",
      "(tensor([3.0000e+00, 2.5000e+00, 7.9900e+05, 1.9470e+03, 1.4000e+03, 5.7100e+02,\n",
      "        3.5000e+01]), tensor([1.]))\n"
     ]
    }
   ],
   "source": [
    "#save to non raw data to data Datasets\n",
    "train_set = TrainDataSet(raw_data_path, train_percent, labels_col)\n",
    "test_set = TestDataSet(raw_data_path, train_percent, labels_col, train_set.rows)\n",
    "print(train_set.__getitem__(3))\n",
    "\n",
    "\n",
    "save_dataset(train_set, path_to_save_dir, 'train.pkl')\n",
    "save_dataset(test_set, path_to_save_dir, 'test.pkl')"
   ]
  }
 ],
 "metadata": {
  "kernelspec": {
   "display_name": "base",
   "language": "python",
   "name": "python3"
  },
  "language_info": {
   "codemirror_mode": {
    "name": "ipython",
    "version": 3
   },
   "file_extension": ".py",
   "mimetype": "text/x-python",
   "name": "python",
   "nbconvert_exporter": "python",
   "pygments_lexer": "ipython3",
   "version": "3.12.3"
  }
 },
 "nbformat": 4,
 "nbformat_minor": 2
}
