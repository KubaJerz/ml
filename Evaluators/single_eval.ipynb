{
 "cells": [
  {
   "cell_type": "code",
   "execution_count": null,
   "metadata": {},
   "outputs": [],
   "source": [
    "import matplotlib.pyplot as plt\n",
    "from sklearn.metrics import ConfusionMatrixDisplay\n",
    "import os\n",
    "import numpy as np\n",
    "from utils_eval import extract_metrics\n",
    "import torch\n",
    "from tensor_builder import getDataSet\n",
    "from torch.utils.data import DataLoader\n",
    "from sklearn.metrics import confusion_matrix\n",
    "\n"
   ]
  },
  {
   "cell_type": "code",
   "execution_count": null,
   "metadata": {},
   "outputs": [],
   "source": [
    "def single_plot(data, best_f1_cf, best_loss_cf):\n",
    "    fig, axs = plt.subplots(2, 2, figsize=(12, 8))\n",
    "\n",
    "    axs[0, 0].plot(data['train_loss'], label='Train Loss')\n",
    "    axs[0, 0].plot(data['dev_loss'], label='Validation Loss')\n",
    "    axs[0, 0].set_title('Loss vs Epochs')\n",
    "    axs[0, 0].legend()\n",
    "    axs[0, 0].set_xlabel('Epochs')\n",
    "    axs[0, 0].set_ylabel('Loss')\n",
    "    axs[0, 0].axhline(data[\"best_loss_dev\"], color='g', linestyle='--', label=f'Best Dev Loss: {data[\"best_loss_dev\"]:.3f}')\n",
    "    axs[0, 0].legend()\n",
    "\n",
    "    axs[0, 1].plot(data['train_f1'], label='Train F1')\n",
    "    axs[0, 1].plot(data['dev_f1'], label='Validation F1')\n",
    "    axs[0, 1].set_title('F1 Score vs Epochs')\n",
    "    axs[0, 1].legend()\n",
    "    axs[0, 1].set_xlabel('Epochs')\n",
    "    axs[0, 1].set_ylabel('F1')\n",
    "    axs[0, 1].axhline(data[\"best_f1_dev\"], color='g', linestyle='--', label=f'Best Dev F1: {data[\"best_f1_dev\"]:.3f}')\n",
    "    axs[0, 1].legend()\n",
    "\n",
    "    cf_f1 = np.array(best_f1_cf)\n",
    "    ConfusionMatrixDisplay(cf_f1).plot(ax=axs[1, 1])\n",
    "    axs[1, 1].set_title('Confusion Matrix for Best F1 Model')\n",
    "\n",
    "\n",
    "    cf_loss = np.array(best_loss_cf)\n",
    "    ConfusionMatrixDisplay(cf_loss).plot(ax=axs[0, 1])\n",
    "    axs[0, 1].set_title('Confusion Matrix for Best Loss Model')\n",
    "\n",
    "    plt.tight_layout()\n",
    "    plt.show()\n",
    "\n",
    "    # return fig"
   ]
  },
  {
   "cell_type": "code",
   "execution_count": null,
   "metadata": {},
   "outputs": [],
   "source": [
    "def get_cf(model_path, batch_size=-1, random_state=69, window_size=300, stride=50):\n",
    "    model = torch.load(model_path)\n",
    "    model.eval()\n",
    "    device = torch.device(\"cuda:1\" if torch.cuda.is_available() else \"cpu\")\n",
    "    model = model.to(device)\n",
    "    \n",
    "    _, test_dataset = getDataSet(randomState=random_state, window_size=window_size, stride=stride, flatten=False)\n",
    "    if batch_size == -1:\n",
    "        batch_size = len(test_dataset)\n",
    "    test_loader = DataLoader(test_dataset, batch_size=batch_size, shuffle=False)\n",
    "    \n",
    "    all_preds = []\n",
    "    all_labels = []\n",
    "    \n",
    "    with torch.no_grad():\n",
    "        for X_batch, y_batch in test_loader:\n",
    "            X_batch = X_batch.to(device)\n",
    "            y_batch = y_batch.to(device).squeeze()\n",
    "            \n",
    "            outputs = model(X_batch)\n",
    "            predictions = (torch.sigmoid(outputs) > 0.5).long().flatten()\n",
    "            \n",
    "            all_preds.extend(predictions.cpu().numpy())\n",
    "            all_labels.extend(y_batch.cpu().numpy())\n",
    "    \n",
    "    conf_matrix = confusion_matrix(all_labels, all_preds)\n",
    "    return conf_matrix"
   ]
  },
  {
   "cell_type": "code",
   "execution_count": null,
   "metadata": {},
   "outputs": [],
   "source": [
    "def main(eval_dir_path):\n",
    "    head_tail = os.path.split(eval_dir_path)\n",
    "    metrics = extract_metrics(basedir=head_tail[0], subdir=head_tail[1])\n",
    "    best_f1_model_path = os.path.join(eval_dir_path, f'{head_tail[1]}_bestLoss.pth')\n",
    "    best_loss_model_path = os.path.join(eval_dir_path, f'{head_tail[1]}_bestF1.pth')\n",
    "    best_f1_cf = get_cf(best_f1_model_path)\n",
    "    best_loss_cf = get_cf(best_loss_model_path)\n",
    "    single_plot(data=metrics, best_f1_cf=best_f1_cf, best_loss_cf=best_loss_cf) \n",
    "    #plot = single_plot(data=metrics)\n",
    "\n",
    "    # plt.tight_layout()\n",
    "    # plt.savefig(os.path.join(eval_dir_path, \"_fullEval.png\"))\n",
    "    # plt.close()"
   ]
  },
  {
   "cell_type": "code",
   "execution_count": null,
   "metadata": {},
   "outputs": [],
   "source": [
    "eval_dir_path = 'path/to/your/eval/directory'\n",
    "main(eval_dir_path)"
   ]
  }
 ],
 "metadata": {
  "language_info": {
   "name": "python"
  }
 },
 "nbformat": 4,
 "nbformat_minor": 2
}
