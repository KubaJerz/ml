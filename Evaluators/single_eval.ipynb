{
 "cells": [
  {
   "cell_type": "code",
   "execution_count": null,
   "metadata": {},
   "outputs": [],
   "source": [
    "import matplotlib.pyplot as plt\n",
    "from sklearn.metrics import ConfusionMatrixDisplay\n",
    "import os\n",
    "import glob\n",
    "import json\n",
    "import numpy as np"
   ]
  },
  {
   "cell_type": "code",
   "execution_count": null,
   "metadata": {},
   "outputs": [],
   "source": [
    "def extract_metrics(sudir):\n",
    "    metrics_data = []\n",
    "    # Search for files matching the pattern *_FULL_metrics.json \n",
    "    file_pattern = os.path.join(sudir, '*_Full_metrics.json')\n",
    "    files = glob.glob(file_pattern)\n",
    "\n",
    "    if not files:\n",
    "        print(f\"No previous metrics files found in {sudir}\")\n",
    "        return {}\n",
    "    \n",
    "    file_path = files[0]\n",
    "\n",
    "    try:\n",
    "        with open(file_path, 'r') as file:\n",
    "            metrics = json.load(file)\n",
    "        return metrics\n",
    "    except FileNotFoundError:\n",
    "        print(f\"Error: File not found at {file_path}\")\n",
    "        return {}\n",
    "    except json.JSONDecodeError:\n",
    "        print(f\"Error: Invalid JSON in file {file_path}\")\n",
    "        return {}\n",
    "    except Exception as e:\n",
    "        print(f\"An unexpected error occurred: {str(e)}\")\n",
    "        return {}"
   ]
  },
  {
   "cell_type": "code",
   "execution_count": null,
   "metadata": {},
   "outputs": [],
   "source": [
    "def single_plot(data):\n",
    "    fig, axs = plt.subplots(2, 2, figsize=(12, 8))\n",
    "\n",
    "    axs[0, 0].plot(data['lossi'], label='Train Loss')\n",
    "    axs[0, 0].plot(data['devlossi'], label='Validation Loss')\n",
    "    axs[0, 0].set_title('Loss vs Epochs')\n",
    "    axs[0, 0].legend()\n",
    "    axs[0, 0].set_xlabel('Epochs')\n",
    "    axs[0, 0].set_ylabel('Loss')\n",
    "    axs[0, 0].axhline(data[\"best_loss_dev\"], color='g', linestyle='--', label=f'Best Dev Loss: {data[\"best_loss_dev\"]:.3f}')\n",
    "    axs[0, 0].legend()\n",
    "\n",
    "    axs[0, 1].plot(data['f1i'], label='Train F1')\n",
    "    axs[0, 1].plot(data['devlf1i'], label='Validation F1')\n",
    "    axs[0, 1].set_title('F1 Score vs Epochs')\n",
    "    axs[0, 1].legend()\n",
    "    axs[0, 1].set_xlabel('Epochs')\n",
    "    axs[0, 1].set_ylabel('F1')\n",
    "    axs[0, 1].axhline(data[\"best_f1_dev\"], color='g', linestyle='--', label=f'Best Dev F1: {data[\"best_f1_dev\"]:.3f}')\n",
    "    axs[0, 1].legend()\n",
    "\n",
    "    confusion_matrix = np.array(data['confusion_matrix'])\n",
    "    ConfusionMatrixDisplay(confusion_matrix).plot(ax=axs[1, 0])\n",
    "    axs[1, 1].axis('off')  \n",
    "    axs[1, 0].set_title('Confusion Matrix')\n",
    "    plt.tight_layout()\n",
    "    plt.show()\n",
    "\n",
    "    # return fig"
   ]
  },
  {
   "cell_type": "code",
   "execution_count": null,
   "metadata": {},
   "outputs": [],
   "source": [
    "def main(eval_dir_path):\n",
    "    metrics = extract_metrics(eval_dir_path)\n",
    "    single_plot(data=metrics) \n",
    "    #plot = single_plot(data=metrics)\n",
    "\n",
    "    # plt.tight_layout()\n",
    "    # plt.savefig(os.path.join(eval_dir_path, \"_fullEval.png\"))\n",
    "    # plt.close()"
   ]
  },
  {
   "cell_type": "code",
   "execution_count": null,
   "metadata": {},
   "outputs": [],
   "source": [
    "eval_dir_path = 'path/to/your/eval/directory'\n",
    "main(eval_dir_path)"
   ]
  }
 ],
 "metadata": {
  "language_info": {
   "name": "python"
  }
 },
 "nbformat": 4,
 "nbformat_minor": 2
}
