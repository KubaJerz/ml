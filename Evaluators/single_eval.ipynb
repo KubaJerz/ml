{
 "cells": [
  {
   "cell_type": "code",
   "execution_count": null,
   "metadata": {},
   "outputs": [],
   "source": [
    "import matplotlib.pyplot as plt\n",
    "from sklearn.metrics import ConfusionMatrixDisplay\n",
    "import os\n",
    "import numpy as np\n",
    "from utils_eval import extract_metrics"
   ]
  },
  {
   "cell_type": "code",
   "execution_count": null,
   "metadata": {},
   "outputs": [],
   "source": [
    "def single_plot(data):\n",
    "    fig, axs = plt.subplots(2, 2, figsize=(12, 8))\n",
    "\n",
    "    axs[0, 0].plot(data['train_loss'], label='Train Loss')\n",
    "    axs[0, 0].plot(data['dev_loss'], label='Validation Loss')\n",
    "    axs[0, 0].set_title('Loss vs Epochs')\n",
    "    axs[0, 0].legend()\n",
    "    axs[0, 0].set_xlabel('Epochs')\n",
    "    axs[0, 0].set_ylabel('Loss')\n",
    "    axs[0, 0].axhline(data[\"best_loss_dev\"], color='g', linestyle='--', label=f'Best Dev Loss: {data[\"best_loss_dev\"]:.3f}')\n",
    "    axs[0, 0].legend()\n",
    "\n",
    "    axs[0, 1].plot(data['train_f1'], label='Train F1')\n",
    "    axs[0, 1].plot(data['dev_f1'], label='Validation F1')\n",
    "    axs[0, 1].set_title('F1 Score vs Epochs')\n",
    "    axs[0, 1].legend()\n",
    "    axs[0, 1].set_xlabel('Epochs')\n",
    "    axs[0, 1].set_ylabel('F1')\n",
    "    axs[0, 1].axhline(data[\"best_f1_dev\"], color='g', linestyle='--', label=f'Best Dev F1: {data[\"best_f1_dev\"]:.3f}')\n",
    "    axs[0, 1].legend()\n",
    "\n",
    "    confusion_matrix = np.array(data['confusion_matrix'])\n",
    "    ConfusionMatrixDisplay(confusion_matrix).plot(ax=axs[1, 0])\n",
    "    axs[1, 1].axis('off')  \n",
    "    axs[1, 0].set_title('Confusion Matrix')\n",
    "    plt.tight_layout()\n",
    "    plt.show()\n",
    "\n",
    "    # return fig"
   ]
  },
  {
   "cell_type": "code",
   "execution_count": null,
   "metadata": {},
   "outputs": [],
   "source": [
    "def main(eval_dir_path):\n",
    "    head_tail = os.path.split(eval_dir_path)\n",
    "    metrics = extract_metrics(basedir=head_tail[0], subdir=head_tail[1])\n",
    "    single_plot(data=metrics) \n",
    "    #plot = single_plot(data=metrics)\n",
    "\n",
    "    # plt.tight_layout()\n",
    "    # plt.savefig(os.path.join(eval_dir_path, \"_fullEval.png\"))\n",
    "    # plt.close()"
   ]
  },
  {
   "cell_type": "code",
   "execution_count": null,
   "metadata": {},
   "outputs": [],
   "source": [
    "eval_dir_path = 'path/to/your/eval/directory'\n",
    "main(eval_dir_path)"
   ]
  }
 ],
 "metadata": {
  "language_info": {
   "name": "python"
  }
 },
 "nbformat": 4,
 "nbformat_minor": 2
}
