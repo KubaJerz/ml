{
 "cells": [
  {
   "cell_type": "code",
   "execution_count": 1,
   "metadata": {},
   "outputs": [],
   "source": [
    "import numpy as np\n",
    "import matplotlib.pyplot as plt\n",
    "from matplotlib.table import Table\n",
    "from utils_eval import color_helper\n",
    "import os\n",
    "\n",
    "from utils_eval import extract_metrics"
   ]
  },
  {
   "cell_type": "code",
   "execution_count": 3,
   "metadata": {},
   "outputs": [],
   "source": [
    "def add_to_plot(axs, data, color, name):\n",
    "    axs[0,0].plot(data['train_loss'], label=f'Train Loss {name}', color=color)\n",
    "    axs[0,0].plot(data['dev_loss'], label=f'Validation Loss {name}', color=color, linestyle='--')\n",
    "\n",
    "    axs[0,1].plot(data['train_f1'], label=f'Train F1 {name}', color=color)\n",
    "    axs[0,1].plot(data['dev_f1'], label=f'Validation F1 {name}', color=color, linestyle='--')\n",
    "    return axs"
   ]
  },
  {
   "cell_type": "code",
   "execution_count": null,
   "metadata": {},
   "outputs": [],
   "source": [
    "def add_table(axs, all_best_metric, f1, top_n=3):\n",
    "    if f1:\n",
    "        # Sort by F1 score\n",
    "        top_models = sorted(all_best_metric.items(), key=lambda x: x[1]['best_f1_dev'], reverse=True)[:top_n]\n",
    "        metric_key = 'best_f1_dev'\n",
    "        column_label = 'Best Dev F1 ----'\n",
    "        ax = axs[1, 1]\n",
    "        title = f'Top {top_n} Models by F1 Score'\n",
    "    else:\n",
    "        # Sort by loss\n",
    "        top_models = sorted(all_best_metric.items(), key=lambda x: x[1]['best_loss_dev'])[:top_n]\n",
    "        metric_key = 'best_loss_dev'\n",
    "        column_label = 'Best Dev Loss ----'\n",
    "        ax = axs[1, 0]\n",
    "        title = f'Top {top_n} Models by Loss'\n",
    "    \n",
    "    data = []\n",
    "    rows = [i+1 for i in range(top_n)]\n",
    "    cell_colors = []\n",
    "    text_colors = []  # New list to store text colors\n",
    "    \n",
    "    for n, (model_name, metrics) in enumerate(top_models):\n",
    "        value = metrics[metric_key]\n",
    "        data.append([f\"{model_name}: {value:.3f}\"])\n",
    "        cell_color = metrics['color']\n",
    "        cell_colors.append([cell_color])\n",
    "\n",
    "        #make white text is background is black\n",
    "        text_color = '#FFFFFF' if cell_color == '#000000' else '#000000'\n",
    "        text_colors.append([text_color])\n",
    "    \n",
    "    table = ax.table(cellText=data, \n",
    "                    rowLabels=rows, \n",
    "                    colLabels=[column_label],\n",
    "                    loc='upper center', \n",
    "                    cellColours=cell_colors)\n",
    "    \n",
    "    # set text color for each cell\n",
    "    for (i, j), cell in table._cells.items():\n",
    "        if i > 0:  #dont do the first (number) cell of each row\n",
    "            cell.get_text().set_color(text_colors[i-1][0])\n",
    "    \n",
    "    table.auto_set_font_size(False)\n",
    "    table.set_fontsize(25)\n",
    "    table.scale(1, 3)\n",
    "    ax.axis('off')\n",
    "    ax.set_title(title, fontsize=30)\n",
    "    return table"
   ]
  },
  {
   "cell_type": "code",
   "execution_count": 4,
   "metadata": {},
   "outputs": [],
   "source": [
    "def main(eval_dir_path):\n",
    "    fig, axs = plt.subplots(2, 2, figsize=(30, 20))\n",
    "\n",
    "    axs[0, 0].set_title('Loss vs Epochs')\n",
    "    axs[0, 0].set_xlabel('Epochs')\n",
    "    axs[0, 0].set_ylabel('Loss')\n",
    "\n",
    "    axs[0, 1].set_title('F1 Score vs Epochs')\n",
    "    axs[0, 1].set_xlabel('Epochs')\n",
    "    axs[0, 1].set_ylabel('F1')\n",
    "\n",
    "    subdirs = [d for d in os.listdir(eval_dir_path) if os.path.isdir(os.path.join(eval_dir_path, d))]\n",
    "    num_dir = len(subdirs)\n",
    "    colors = color_helper(num_dir)\n",
    "\n",
    "    all_best_metric = {} #dic with  each models best metrics and their color\n",
    "\n",
    "    for i, subdir in enumerate(subdirs):\n",
    "        metrics = extract_metrics(basedir=eval_dir_path, subdir=subdir)\n",
    "        name = os.path.basename(subdir)\n",
    "        axs = add_to_plot(axs=axs, data=metrics, color=colors[i], name=name)\n",
    "        all_best_metric.update({name: {'best_f1_dev':metrics['best_f1_dev'], 'best_loss_dev':metrics['best_loss_dev'], 'color':colors[i]}})\n",
    "\n",
    "    fig.legend(loc='center right', bbox_to_anchor=(1.12, 0.7),fontsize='x-large')\n",
    "    \n",
    "    \n",
    "    add_table(axs=axs, all_best_metric=all_best_metric, f1=True)\n",
    "    add_table(axs=axs, all_best_metric=all_best_metric, f1=False)\n",
    "\n",
    "\n",
    "\n",
    "    # axs[0].legend(bbox_to_anchor=(0.5,-.2))\n",
    "    \n",
    "    plt.tight_layout()\n",
    "    # plt.subplots_adjust(right=0.85)\n",
    "    plt.savefig(os.path.join(eval_dir_path,f\"_multiEval.png\"), bbox_inches='tight', pad_inches=0.5)\n",
    "    plt.close()"
   ]
  },
  {
   "cell_type": "code",
   "execution_count": null,
   "metadata": {},
   "outputs": [],
   "source": [
    "eval_dir_path = 'path/to/your/eval/directory'\n",
    "main(eval_dir_path)"
   ]
  }
 ],
 "metadata": {
  "kernelspec": {
   "display_name": "AssetAlmanac",
   "language": "python",
   "name": "python3"
  },
  "language_info": {
   "codemirror_mode": {
    "name": "ipython",
    "version": 3
   },
   "file_extension": ".py",
   "mimetype": "text/x-python",
   "name": "python",
   "nbconvert_exporter": "python",
   "pygments_lexer": "ipython3",
   "version": "3.11.5"
  }
 },
 "nbformat": 4,
 "nbformat_minor": 2
}
