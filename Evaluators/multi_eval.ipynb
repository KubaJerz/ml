{
 "cells": [
  {
   "cell_type": "code",
   "execution_count": 1,
   "metadata": {},
   "outputs": [],
   "source": [
    "import numpy as np\n",
    "import matplotlib.pyplot as plt\n",
    "from utils_eval import color_helper\n",
    "import os\n",
    "import glob\n",
    "import json"
   ]
  },
  {
   "cell_type": "code",
   "execution_count": 2,
   "metadata": {},
   "outputs": [],
   "source": [
    "def extract_metrics(sudir):\n",
    "    metrics_data = []\n",
    "    # Search for files matching the pattern *_FULL_metrics.json \n",
    "    file_pattern = os.path.join(sudir, '*_Full_metrics.json')\n",
    "    files = glob.glob(file_pattern)\n",
    "\n",
    "    if not files:\n",
    "        print(f\"No previous metrics files found in {sudir}\")\n",
    "        return {}\n",
    "    \n",
    "    file_path = files[0]\n",
    "\n",
    "    try:\n",
    "        with open(file_path, 'r') as file:\n",
    "            metrics = json.load(file)\n",
    "        return metrics\n",
    "    except FileNotFoundError:\n",
    "        print(f\"Error: File not found at {file_path}\")\n",
    "        return {}\n",
    "    except json.JSONDecodeError:\n",
    "        print(f\"Error: Invalid JSON in file {file_path}\")\n",
    "        return {}\n",
    "    except Exception as e:\n",
    "        print(f\"An unexpected error occurred: {str(e)}\")\n",
    "        return {}"
   ]
  },
  {
   "cell_type": "code",
   "execution_count": 3,
   "metadata": {},
   "outputs": [],
   "source": [
    "def add_to_plot(axs, data, color, name):\n",
    "    #WE NEEED TO ADD NAME\n",
    "    axs[0, 0].plot(data['lossi'], label=f'Train Loss {name}', color=color)\n",
    "    axs[0, 0].plot(data['devlossi'], label=f'Validation Loss {name}', color=color, linestyle='--')\n",
    "\n",
    "    axs[0, 1].plot(data['f1i'], label=f'Train F1 {name}', color=color)\n",
    "    axs[0, 1].plot(data['devlf1i'], label=f'Validation F1 {name}', color=color, linestyle='--')\n",
    "    return axs"
   ]
  },
  {
   "cell_type": "code",
   "execution_count": 4,
   "metadata": {},
   "outputs": [],
   "source": [
    "def main(eval_dir_path):\n",
    "    fig, axs = plt.subplots(1, 2, figsize=(12, 6))\n",
    "\n",
    "    axs[0, 0].set_title('Loss vs Epochs')\n",
    "    axs[0, 0].legend()\n",
    "    axs[0, 0].set_xlabel('Epochs')\n",
    "    axs[0, 0].set_ylabel('Loss')\n",
    "    axs[0, 0].legend()\n",
    "\n",
    "    axs[0, 1].set_title('F1 Score vs Epochs')\n",
    "    axs[0, 1].legend()\n",
    "    axs[0, 1].set_xlabel('Epochs')\n",
    "    axs[0, 1].set_ylabel('F1')\n",
    "    axs[0, 1].legend()\n",
    "\n",
    "    subdirs = [d for d in os.listdir(eval_dir_path) if os.path.isdir(os.path.join(eval_dir_path, d))]\n",
    "    num_dir = len(subdir)\n",
    "    colors = color_helper(num_dir)\n",
    "\n",
    "    for i, subdir in enumerate(subdirs):\n",
    "        metrics = extract_metrics(subdir)\n",
    "        name = os.path.basename(subdir)\n",
    "        axs = add_to_plot(axs=axs, data=metrics, color=colors[i], name=name)\n",
    "\n",
    "\n",
    "    plt.tight_layout()\n",
    "    plt.savefig(os.path.join(eval_dir_path,f\"_multiEval.png\"))\n",
    "    plt.close()"
   ]
  },
  {
   "cell_type": "code",
   "execution_count": 5,
   "metadata": {},
   "outputs": [
    {
     "ename": "AttributeError",
     "evalue": "module 'matplotlib' has no attribute 'plot'",
     "output_type": "error",
     "traceback": [
      "\u001b[0;31m---------------------------------------------------------------------------\u001b[0m",
      "\u001b[0;31mAttributeError\u001b[0m                            Traceback (most recent call last)",
      "Cell \u001b[0;32mIn[5], line 2\u001b[0m\n\u001b[1;32m      1\u001b[0m eval_dir_path \u001b[38;5;241m=\u001b[39m \u001b[38;5;124m'\u001b[39m\u001b[38;5;124mpath/to/your/eval/directory\u001b[39m\u001b[38;5;124m'\u001b[39m\n\u001b[0;32m----> 2\u001b[0m \u001b[43mmain\u001b[49m\u001b[43m(\u001b[49m\u001b[43meval_dir_path\u001b[49m\u001b[43m)\u001b[49m\n",
      "Cell \u001b[0;32mIn[4], line 2\u001b[0m, in \u001b[0;36mmain\u001b[0;34m(eval_dir_path)\u001b[0m\n\u001b[1;32m      1\u001b[0m \u001b[38;5;28;01mdef\u001b[39;00m \u001b[38;5;21mmain\u001b[39m(eval_dir_path):\n\u001b[0;32m----> 2\u001b[0m     plot \u001b[38;5;241m=\u001b[39m \u001b[43mplt\u001b[49m\u001b[38;5;241;43m.\u001b[39;49m\u001b[43mplot\u001b[49m() \u001b[38;5;66;03m#base plot\u001b[39;00m\n\u001b[1;32m      3\u001b[0m     subdirs \u001b[38;5;241m=\u001b[39m [d \u001b[38;5;28;01mfor\u001b[39;00m d \u001b[38;5;129;01min\u001b[39;00m os\u001b[38;5;241m.\u001b[39mlistdir(eval_dir_path) \u001b[38;5;28;01mif\u001b[39;00m os\u001b[38;5;241m.\u001b[39mpath\u001b[38;5;241m.\u001b[39misdir(os\u001b[38;5;241m.\u001b[39mpath\u001b[38;5;241m.\u001b[39mjoin(eval_dir_path, d))]\n\u001b[1;32m      4\u001b[0m     num_dir \u001b[38;5;241m=\u001b[39m \u001b[38;5;28mlen\u001b[39m(subdir)\n",
      "File \u001b[0;32m~/.vir-envs/AssetAlmanac/lib/python3.11/site-packages/matplotlib/_api/__init__.py:217\u001b[0m, in \u001b[0;36mcaching_module_getattr.<locals>.__getattr__\u001b[0;34m(name)\u001b[0m\n\u001b[1;32m    215\u001b[0m \u001b[38;5;28;01mif\u001b[39;00m name \u001b[38;5;129;01min\u001b[39;00m props:\n\u001b[1;32m    216\u001b[0m     \u001b[38;5;28;01mreturn\u001b[39;00m props[name]\u001b[38;5;241m.\u001b[39m\u001b[38;5;21m__get__\u001b[39m(instance)\n\u001b[0;32m--> 217\u001b[0m \u001b[38;5;28;01mraise\u001b[39;00m \u001b[38;5;167;01mAttributeError\u001b[39;00m(\n\u001b[1;32m    218\u001b[0m     \u001b[38;5;124mf\u001b[39m\u001b[38;5;124m\"\u001b[39m\u001b[38;5;124mmodule \u001b[39m\u001b[38;5;132;01m{\u001b[39;00m\u001b[38;5;28mcls\u001b[39m\u001b[38;5;241m.\u001b[39m\u001b[38;5;18m__module__\u001b[39m\u001b[38;5;132;01m!r}\u001b[39;00m\u001b[38;5;124m has no attribute \u001b[39m\u001b[38;5;132;01m{\u001b[39;00mname\u001b[38;5;132;01m!r}\u001b[39;00m\u001b[38;5;124m\"\u001b[39m)\n",
      "\u001b[0;31mAttributeError\u001b[0m: module 'matplotlib' has no attribute 'plot'"
     ]
    }
   ],
   "source": [
    "eval_dir_path = 'path/to/your/eval/directory'\n",
    "main(eval_dir_path)"
   ]
  }
 ],
 "metadata": {
  "kernelspec": {
   "display_name": "AssetAlmanac",
   "language": "python",
   "name": "python3"
  },
  "language_info": {
   "codemirror_mode": {
    "name": "ipython",
    "version": 3
   },
   "file_extension": ".py",
   "mimetype": "text/x-python",
   "name": "python",
   "nbconvert_exporter": "python",
   "pygments_lexer": "ipython3",
   "version": "3.11.5"
  }
 },
 "nbformat": 4,
 "nbformat_minor": 2
}
